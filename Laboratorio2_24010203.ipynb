{
 "cells": [
  {
   "cell_type": "markdown",
   "id": "3d592346-f88c-45d5-bb91-62b613da6f8d",
   "metadata": {},
   "source": [
    "## Ciencia de datos en Python"
   ]
  },
  {
   "cell_type": "markdown",
   "id": "8bc711cb-c4cb-4c35-81b7-64a506968202",
   "metadata": {},
   "source": [
    "## Laboratorio #2 \n",
    "Sintaxis y Estructuras de Datos"
   ]
  },
  {
   "cell_type": "markdown",
   "id": "204c8f6f-31ea-44ce-a844-a550e71531ca",
   "metadata": {},
   "source": [
    "### Ejercicio 1. Función que convierte segundos:"
   ]
  },
  {
   "cell_type": "code",
   "execution_count": 6,
   "id": "f6d9cf34-8883-49ae-8c45-0f4aa884f031",
   "metadata": {},
   "outputs": [
    {
     "name": "stdin",
     "output_type": "stream",
     "text": [
      "Ingrese el número de segundos:  5\n"
     ]
    },
    {
     "name": "stdout",
     "output_type": "stream",
     "text": [
      "El número de segundos equivale a Horas: 0, Minutos: 0, Segundos: 5\n"
     ]
    }
   ],
   "source": [
    "def convertir_segundos_a_time():\n",
    "    try:\n",
    "        # Solicitamos al usuario que ingrese el número en segundos\n",
    "        num_segundos = input(\"Ingrese el número de segundos: \") #muestra la entrada de los numeros \n",
    "        \n",
    "        # Convertimos el número a entero\n",
    "        num_segundos = int(num_segundos)\n",
    "\n",
    "        # El numero de segundos debe ser positivo, asi que:\n",
    "        if num_segundos < 0:\n",
    "            return \"El número de segundos no puede ser negativo. Por favor, ingrese un número positivo.\"\n",
    "        \n",
    "        horas = num_segundos // 3600\n",
    "        minutos = (num_segundos % 3600) // 60\n",
    "        segundos_time = num_segundos % 60\n",
    "        \n",
    "        return f\"El número de segundos equivale a Horas: {horas}, Minutos: {minutos}, Segundos: {segundos_time}\"\n",
    "     \n",
    "    except ValueError:\n",
    "        # Cuando el valor ingresado no es un entero\n",
    "        return \"Por favor, ingrese un número entero válido.\"\n",
    "    except KeyboardInterrupt:\n",
    "        # En caso de que el usuario interrumpa la operación\n",
    "        return \"Operación cancelada por el usuario.\"\n",
    "\n",
    "# Aca podemos operar la funcion:\n",
    "resultado = convertir_segundos_a_time()\n",
    "print(resultado)\n"
   ]
  },
  {
   "cell_type": "markdown",
   "id": "0a58d846-18c8-45b9-96ad-0f3f21e19b43",
   "metadata": {},
   "source": [
    "### Ejercicio 2:\n"
   ]
  },
  {
   "cell_type": "code",
   "execution_count": 14,
   "id": "b626b940-edb9-4eac-b4a5-dc08c6f6c2f2",
   "metadata": {},
   "outputs": [
    {
     "name": "stdin",
     "output_type": "stream",
     "text": [
      "Estimado usario, por favor, ingrese un número entre 1 y 20:  4\n",
      "Ingrese el símbolo que desea formen los patrones triangulares:  *\n"
     ]
    },
    {
     "name": "stdout",
     "output_type": "stream",
     "text": [
      "*\n",
      "**\n",
      "***\n",
      "****\n",
      "\n",
      "****\n",
      "***\n",
      "**\n",
      "*\n",
      "\n",
      "   *\n",
      "  **\n",
      " ***\n",
      "****\n",
      "\n",
      "****\n",
      " ***\n",
      "  **\n",
      "   *\n",
      "\n"
     ]
    }
   ],
   "source": [
    "def funcion_patrones(n, simbolo):\n",
    "    # 1. Triángulo rectángulo normal\n",
    "    for i in range(n):\n",
    "        print(simbolo * (i + 1))\n",
    "    print()\n",
    "    \n",
    "    #2. Triángulo rectángulo invertido\n",
    "    for i in range(n, 0, -1):\n",
    "        print(simbolo * i)\n",
    "    print()\n",
    "    \n",
    "    #3. Triángulo rectángulo invertido con espacios al inicio\n",
    "    for i in range(n):\n",
    "        print(' ' * (n - i - 1) + simbolo * (i + 1))\n",
    "    print()\n",
    "    \n",
    "    #4. Triángulo rectángulo normal con espacios al inicio\n",
    "    for i in range(n, 0, -1):\n",
    "        print(' ' * (n - i) + simbolo * i)\n",
    "    print()\n",
    "\n",
    "# Aca vamos a solicitar al usuario el número y el símbolo deseados\n",
    "numero = int(input(\"Estimado usario, por favor, ingrese un número entre 1 y 20: \"))\n",
    "simbolo = input(\"Ingrese el símbolo que desea formen los patrones triangulares: \")\n",
    "\n",
    "# Es necesario validar la informacion para saber si el numero ingresado esta entre el intervalo de numero y el simbolo debe contener solo 1 caracter para que funcione correctamente.\n",
    "if 1 <= numero <= 20 and len(simbolo) == 1:\n",
    "    funcion_patrones(numero, simbolo)\n",
    "else:\n",
    "    print(\"El número debe estar entre 1 y 20 y debe ingresar un único símbolo.\")\n"
   ]
  },
  {
   "cell_type": "markdown",
   "id": "f27d6083-bbe3-4a3d-b9d9-452b5f4da619",
   "metadata": {},
   "source": [
    "### Ejercicio #3"
   ]
  },
  {
   "cell_type": "code",
   "execution_count": 20,
   "id": "a64c78f7-7d4a-4082-993e-f9f3aa5c131b",
   "metadata": {},
   "outputs": [
    {
     "name": "stdin",
     "output_type": "stream",
     "text": [
      "Ingrese su día de nacimiento:  10\n",
      "Ingrese su mes de nacimiento:  02\n",
      "Ingrese su año de nacimiento:  2024\n"
     ]
    },
    {
     "name": "stdout",
     "output_type": "stream",
     "text": [
      " El usario tiene: 0 años, 0 meses y 15 días de edad.\n"
     ]
    }
   ],
   "source": [
    "from datetime import datetime\n",
    "def funcion_edad(dia_nac, mes_nac, anio_nac):\n",
    "    # Necesitamos tener una fecha de refencia para hacer el calculo, entonces tomamos la fecha actual\n",
    "    fecha_actual = datetime.now()\n",
    "    dia_actual = fecha_actual.day\n",
    "    mes_actual = fecha_actual.month\n",
    "    anio_actual = fecha_actual.year\n",
    "\n",
    "    # La edad en años, meses y dias viene dado por la resta de la fecha actual menos la edad introducida por el usuario\n",
    "    edad_anios = anio_actual - anio_nac\n",
    "    edad_meses = mes_actual - mes_nac\n",
    "    edad_dias = dia_actual - dia_nac\n",
    "\n",
    "    # Consideramos dias negativos\n",
    "    # Si la diferencia de días entre la fecha de nacimiento y la fecha actual es negativa\n",
    "    if edad_dias < 0:\n",
    "        #Si el mes es febrero y si es un año bisiesto\n",
    "        dias_del_mes_anterior = 31\n",
    "        #\n",
    "        if mes_actual == 3:  # Dado que el mes anterior a marzo con 31 dias, necesitamos hacer un calculo extra dado que febrero es el mes antecesor (28, 29 dias\n",
    "            if (anio_actual % 4 == 0 and anio_actual % 100 != 0) or (anio_actual % 400 == 0):\n",
    "                dias_del_mes_anterior = 29  # Año bisiesto\n",
    "            else:\n",
    "                dias_del_mes_anterior = 28\n",
    "        elif mes_actual in [5, 7, 10, 12]:\n",
    "            dias_del_mes_anterior = 30\n",
    "\n",
    "        edad_dias += dias_del_mes_anterior\n",
    "        edad_meses -= 1\n",
    "\n",
    "    if edad_meses < 0:\n",
    "        edad_meses += 12\n",
    "        edad_anios -= 1\n",
    "\n",
    "    return (edad_anios, edad_meses, edad_dias)\n",
    "\n",
    "# Usario ingresa fecha de nacimiento\n",
    "dia_nacimiento = int(input(\"Ingrese su día de nacimiento: \"))\n",
    "mes_nacimiento = int(input(\"Ingrese su mes de nacimiento: \"))\n",
    "anio_nacimiento = int(input(\"Ingrese su año de nacimiento: \"))\n",
    "\n",
    "# Mostramos la edad como lo requiere el enunciado\n",
    "edad_anios, edad_meses, edad_dias = funcion_edad(dia_nacimiento, mes_nacimiento, anio_nacimiento)\n",
    "print(f\" El usario tiene: {edad_anios} años, {edad_meses} meses y {edad_dias} días de edad.\")\n"
   ]
  },
  {
   "cell_type": "markdown",
   "id": "d152faf3-a08a-40ba-b5e0-9bbd6982d94d",
   "metadata": {},
   "source": [
    "### Ejercicio #4"
   ]
  },
  {
   "cell_type": "code",
   "execution_count": 4,
   "id": "645b7470-4b39-407d-9db4-f60ed9a03b5e",
   "metadata": {},
   "outputs": [
    {
     "name": "stdout",
     "output_type": "stream",
     "text": [
      "102040570\n"
     ]
    }
   ],
   "source": [
    "def tupla_a_string(tupla):\n",
    "    # Inicializar un string vacío para la salida\n",
    "    salida = ''\n",
    "    # Iterarndo sobre cada elemento de la tupla\n",
    "    for elemento in tupla:\n",
    "        # Convertir el elemento a string y concatenarlo a la salida\n",
    "        salida += str(elemento)\n",
    "    return salida\n",
    "\n",
    "# Ejemplo\n",
    "entrada = (10, 20, 40, 5, 70)\n",
    "salida = tupla_a_string(entrada)\n",
    "print(salida)"
   ]
  },
  {
   "cell_type": "markdown",
   "id": "579b89d7-93b7-4dcc-9f56-966da9f3647a",
   "metadata": {},
   "source": [
    "### Ejercicio #5"
   ]
  },
  {
   "cell_type": "code",
   "execution_count": 6,
   "id": "9cde238a-77d0-4c66-a340-49a083ac80b0",
   "metadata": {},
   "outputs": [
    {
     "name": "stdout",
     "output_type": "stream",
     "text": [
      "[('X',), ('a', 'b'), ('a', 'b', 'c'), ('d',)]\n"
     ]
    }
   ],
   "source": [
    "def remove_tuplas_vacias(lista):\n",
    "    return [tup for tup in lista if tup]\n",
    "\n",
    "# Ejemplo\n",
    "entrada = [(), (), ('X',), ('a', 'b'), ('a', 'b', 'c'), ('d',)]\n",
    "salida = remove_tuplas_vacias(entrada)\n",
    "print(salida)\n"
   ]
  },
  {
   "cell_type": "markdown",
   "id": "0b9cc680-b5d6-46f1-a3bf-762052b26aa4",
   "metadata": {},
   "source": [
    "### Ejericicio #6\n"
   ]
  },
  {
   "cell_type": "code",
   "execution_count": 8,
   "id": "6363899f-797e-47c4-913a-2f27e9f69526",
   "metadata": {},
   "outputs": [
    {
     "name": "stdout",
     "output_type": "stream",
     "text": [
      "(10.5, 44.0, 58.0)\n"
     ]
    }
   ],
   "source": [
    "def calcular_promedios(tuplas):\n",
    "    promedios = tuple(sum(x) / len(x) for x in tuplas if len(x) > 0)\n",
    "    return promedios\n",
    "\n",
    "# Tupla de entrada\n",
    "entrada = ((10, 10, 10, 12), (30, 45, 56, 45), (81, 80, 39, 32))\n",
    "\n",
    "# Calcular los promedios y mostrar el resultado\n",
    "resultado = calcular_promedios(entrada)\n",
    "print(resultado)\n"
   ]
  },
  {
   "cell_type": "markdown",
   "id": "7f484201-87eb-4ffe-86dc-4618e11b7030",
   "metadata": {},
   "source": [
    "### Ejercicio #7"
   ]
  },
  {
   "cell_type": "code",
   "execution_count": 13,
   "id": "0181a032",
   "metadata": {},
   "outputs": [
    {
     "name": "stdout",
     "output_type": "stream",
     "text": [
      "¿Qué desea hacer? Añadir una nueva factura (A), pagar una existente (P), o terminar (T): P\n",
      "Ingrese el número de factura a pagar: 4569\n",
      "La factura no existe en nuestra base de datos.\n",
      "Facturas pendientes:  {}\n",
      "Cantidad cobrada hasta el momento: 0\n",
      "Cantidad pendiente de cobro: 0\n",
      "¿Qué desea hacer? Añadir una nueva factura (A), pagar una existente (P), o terminar (T): A\n",
      "Ingrese el número de factura de 4 dígitos: 4589\n",
      "Ingrese el coste de la factura: 120\n",
      "Factura añadida correctamente.\n",
      "Facturas actuales:  {'4589': 120.0}\n",
      "Cantidad cobrada hasta el momento: 0\n",
      "Cantidad pendiente de cobro: 120.0\n",
      "¿Qué desea hacer? Añadir una nueva factura (A), pagar una existente (P), o terminar (T): p\n",
      "Ingrese el número de factura a pagar: 4589\n",
      "Factura 4589 pagada correctamente.\n",
      "Facturas pendientes:  {}\n",
      "Cantidad cobrada hasta el momento: 120.0\n",
      "Cantidad pendiente de cobro: 0\n",
      "¿Qué desea hacer? Añadir una nueva factura (A), pagar una existente (P), o terminar (T): j}\n",
      "Acción no reconocida.\n",
      "Cantidad cobrada hasta el momento: 120.0\n",
      "Cantidad pendiente de cobro: 0\n",
      "¿Qué desea hacer? Añadir una nueva factura (A), pagar una existente (P), o terminar (T): t\n",
      "Programa terminado.\n"
     ]
    }
   ],
   "source": [
    "def main():\n",
    "    facturas = {}\n",
    "    monto_cobrado = 0\n",
    "\n",
    "    while True:\n",
    "        accion = input(\"¿Qué desea hacer? Añadir una nueva factura (A), pagar una existente (P), o terminar (T): \").upper()\n",
    "        \n",
    "        if accion == \"A\":\n",
    "            num_factura = input(\"Ingrese el número de factura de 4 dígitos: \")\n",
    "            if len(num_factura) == 4 and num_factura.isdigit():\n",
    "                costo = float(input(\"Ingrese el coste de la factura: \"))\n",
    "                facturas[num_factura] = costo\n",
    "                print(\"Factura añadida correctamente.\")\n",
    "                print(\"Facturas actuales: \", facturas)\n",
    "            else:\n",
    "                print(\"El número de factura debe ser de 4 dígitos numéricos.\")\n",
    "        \n",
    "        elif accion == \"P\":\n",
    "            num_factura = input(\"Ingrese el número de factura a pagar: \")\n",
    "            if num_factura in facturas:\n",
    "                monto_cobrado += facturas.pop(num_factura, 0)\n",
    "                print(f\"Factura {num_factura} pagada correctamente.\")\n",
    "            else:\n",
    "                print(\"La factura no existe en nuestra base de datos, intente de nuevo.\")\n",
    "            print(\"Facturas pendientes: \", facturas)\n",
    "        \n",
    "        elif accion == \"T\":\n",
    "            print(\"Programa terminado.\")\n",
    "            break\n",
    "        \n",
    "        else:\n",
    "            print(\"Acción no reconocida.\")\n",
    "\n",
    "        monto_pendiente = sum(facturas.values())\n",
    "        print(f\"Cantidad cobrada hasta el momento: {monto_cobrado}\")\n",
    "        print(f\"Cantidad pendiente de cobro: {monto_pendiente}\")\n",
    "\n",
    "if __name__ == \"__main__\":\n",
    "    main()\n"
   ]
  },
  {
   "cell_type": "markdown",
   "id": "c75fe6a8-3a70-42eb-8c4d-42048ac7a704",
   "metadata": {},
   "source": [
    "### Ejercicio 8"
   ]
  },
  {
   "cell_type": "code",
   "execution_count": 19,
   "id": "131126d3-e29a-4c02-81c9-10a81682a075",
   "metadata": {},
   "outputs": [
    {
     "name": "stdout",
     "output_type": "stream",
     "text": [
      "Probabilidad de intersección: 0.057692307692307696\n",
      "Probabilidad de unión: 0.6346153846153846\n",
      "¿Son idndependientes los eventos?: False\n",
      "¿Cumple con la regla de la adición?: True\n"
     ]
    }
   ],
   "source": [
    "import random # Para crear valores aleatorios\n",
    "\n",
    "def crear_baraja():\n",
    "    palos = ['T', 'C', 'S', 'D']  # Tréboles, Corazones, Spades, Diamonds\n",
    "    baraja = {f\"{palo}{str(numero).zfill(2)}\" for palo in palos for numero in range(1, 14)}\n",
    "    return baraja\n",
    "\n",
    "def subconjuntos(baraja):\n",
    "    cant_cartas_1 = random.randint(1, len(baraja))\n",
    "    cant_cartas_2 = random.randint(1, len(baraja))\n",
    "    # Convertir baraja a lista antes de pasarlo a random.sample\n",
    "    subconjunto_1 = set(random.sample(list(baraja), cant_cartas_1))\n",
    "    subconjunto_2 = set(random.sample(list(baraja), cant_cartas_2))\n",
    "    return subconjunto_1, subconjunto_2\n",
    "\n",
    "def calcular_probabilidades(subconjunto_1, subconjunto_2, baraja):\n",
    "    interseccion = subconjunto_1 & subconjunto_2\n",
    "    prob_interseccion = len(interseccion) / len(baraja)\n",
    "    union = subconjunto_1 | subconjunto_2\n",
    "    prob_union = len(union) / len(baraja)\n",
    "    prob_subconjunto_1 = len(subconjunto_1) / len(baraja)\n",
    "    prob_subconjunto_2 = len(subconjunto_2) / len(baraja)\n",
    "    son_independientes = prob_interseccion == prob_subconjunto_1 * prob_subconjunto_2\n",
    "    regla_adicion = prob_union == prob_subconjunto_1 + prob_subconjunto_2 - prob_interseccion\n",
    "    \n",
    "    return prob_interseccion, prob_union, son_independientes, regla_adicion\n",
    "\n",
    "baraja = crear_baraja()\n",
    "subconjunto_1, subconjunto_2 = subconjuntos(baraja)\n",
    "prob_interseccion, prob_union, son_independientes, cumple_adicion = calcular_probabilidades(subconjunto_1, subconjunto_2, baraja)\n",
    "\n",
    "# Imprimir resultados para verificar\n",
    "print(f\"Probabilidad de intersección: {prob_interseccion}\")\n",
    "print(f\"Probabilidad de unión: {prob_union}\")\n",
    "print(f\"¿Son idndependientes los eventos?: {son_independientes}\")\n",
    "print(f\"¿Cumple con la regla de la adición?: {cumple_adicion}\")\n"
   ]
  },
  {
   "cell_type": "code",
   "execution_count": null,
   "id": "1f5682ab-f278-4558-bcec-05962d393325",
   "metadata": {},
   "outputs": [],
   "source": []
  }
 ],
 "metadata": {
  "kernelspec": {
   "display_name": "Python 3 (ipykernel)",
   "language": "python",
   "name": "python3"
  },
  "language_info": {
   "codemirror_mode": {
    "name": "ipython",
    "version": 3
   },
   "file_extension": ".py",
   "mimetype": "text/x-python",
   "name": "python",
   "nbconvert_exporter": "python",
   "pygments_lexer": "ipython3",
   "version": "3.11.5"
  }
 },
 "nbformat": 4,
 "nbformat_minor": 5
}
